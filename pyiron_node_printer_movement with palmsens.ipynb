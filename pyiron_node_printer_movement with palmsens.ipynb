{
 "cells": [
  {
   "cell_type": "code",
   "execution_count": null,
   "id": "5d360da8-b389-449a-9520-47fd7386328c",
   "metadata": {},
   "outputs": [],
   "source": [
    "import os\n",
    "import sys\n",
    "from IPython.display import display\n",
    "import ipywidgets as widgets\n",
    "\n",
    "# --- Set up project paths ---\n",
    "root_dir = os.getcwd()\n",
    "pyiron_nodes_path = os.path.join(root_dir, 'pyiron_nodes')\n",
    "palmsens_path = os.path.join(root_dir, 'palmsens')\n",
    "printer_path = os.path.join(root_dir, 'printer')\n",
    "\n",
    "for path in [pyiron_nodes_path, palmsens_path, printer_path]:\n",
    "    if path not in sys.path:\n",
    "        sys.path.append(path)\n",
    "\n",
    "# --- Imports ---\n",
    "from pyiron_workflow import Workflow\n",
    "from pyironflow import PyironFlow\n",
    "from pyiron_nodes.workingnodes_printer import (\n",
    "    CellSelector,\n",
    "    ExperimentConfig,\n",
    "    RunMeasurementLoop  # ✅ new integrated green node\n",
    ")\n",
    "\n",
    "# --- Build Workflow ---\n",
    "wf = Workflow(\"full_measurement_workflow\")\n",
    "\n",
    "# 1. Select cells (checkbox node)\n",
    "wf.cell_selector = CellSelector()\n",
    "\n",
    "# 2. Configure experiment (purple config node)\n",
    "wf.config = ExperimentConfig()\n",
    "wf.config.selected_cells = wf.cell_selector.outputs.selected_cells\n",
    "\n",
    "# 3. Run looped measurements (mover + PalmSens)\n",
    "wf.runner = RunMeasurementLoop(config=wf.config.outputs.dataclass)\n",
    "\n",
    "# --- GUI Display ---\n",
    "pf = PyironFlow([wf], root_path=\"pyiron_nodes\", flow_widget_ratio=0.85)\n",
    "pf.gui.layout = widgets.Layout(\n",
    "    border='1px solid black',\n",
    "    flex='1 1 auto',\n",
    "    width='auto',\n",
    "    height='700px',\n",
    "    max_height='700px'\n",
    ")\n",
    "\n",
    "display(pf.gui)\n"
   ]
  }
 ],
 "metadata": {
  "kernelspec": {
   "display_name": "Python 3 (ipykernel)",
   "language": "python",
   "name": "python3"
  },
  "language_info": {
   "codemirror_mode": {
    "name": "ipython",
    "version": 3
   },
   "file_extension": ".py",
   "mimetype": "text/x-python",
   "name": "python",
   "nbconvert_exporter": "python",
   "pygments_lexer": "ipython3",
   "version": "3.12.9"
  }
 },
 "nbformat": 4,
 "nbformat_minor": 5
}
