{
 "cells": [
  {
   "cell_type": "code",
   "execution_count": 1,
   "id": "155f853d-3ac4-46ef-83b0-8e69bbf821d5",
   "metadata": {},
   "outputs": [
    {
     "data": {
      "application/vnd.jupyter.widget-view+json": {
       "model_id": "f5f7c66dd3064f6b86c7f0081ae5c436",
       "version_major": 2,
       "version_minor": 0
      },
      "text/plain": [
       "HBox(children=(Accordion(children=(VBox(children=(Button(button_style='info', description='Refresh', style=But…"
      ]
     },
     "metadata": {},
     "output_type": "display_data"
    }
   ],
   "source": [
    "from pyironflow import PyironFlow, GUILayout\n",
    "from pyiron_nodes.workingnodes_printer import SamplePrinterMover\n",
    "from pyiron_workflow import Workflow\n",
    "\n",
    "# Step 1: Create workflow object\n",
    "wf = Workflow(\"PrinterControlWorkflow\")\n",
    "\n",
    "# Step 2: Add the printer mover node\n",
    "wf.printer_mover=SamplePrinterMover()\n",
    "pf=PyironFlow([wf],root_path=\"pyiron_nodes\",flow_widget_ratio=0.7)\n",
    "display(pf.gui)"
   ]
  },
  {
   "cell_type": "code",
   "execution_count": null,
   "id": "c5603123-722c-45f4-9017-410dfe011220",
   "metadata": {},
   "outputs": [],
   "source": [
    "\n",
    "send_gcode(\"G92 X0 Y0 Z0\", port=\"COM4\", baudrate=115200, simulate=False)"
   ]
  },
  {
   "cell_type": "code",
   "execution_count": null,
   "id": "283644d7-17cc-44a8-bb2c-cd65abe293ba",
   "metadata": {},
   "outputs": [],
   "source": [
    "import os\n",
    "\n",
    "print(\"Current working directory:\", os.getcwd())\n"
   ]
  },
  {
   "cell_type": "code",
   "execution_count": null,
   "id": "72ce0f5e-28ef-4022-b25c-f2d09be8d36c",
   "metadata": {},
   "outputs": [],
   "source": []
  }
 ],
 "metadata": {
  "kernelspec": {
   "display_name": "Python 3 (ipykernel)",
   "language": "python",
   "name": "python3"
  },
  "language_info": {
   "codemirror_mode": {
    "name": "ipython",
    "version": 3
   },
   "file_extension": ".py",
   "mimetype": "text/x-python",
   "name": "python",
   "nbconvert_exporter": "python",
   "pygments_lexer": "ipython3",
   "version": "3.12.9"
  }
 },
 "nbformat": 4,
 "nbformat_minor": 5
}
