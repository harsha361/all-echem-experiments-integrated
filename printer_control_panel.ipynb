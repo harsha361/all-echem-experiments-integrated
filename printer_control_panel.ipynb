{
 "cells": [
  {
   "cell_type": "code",
   "execution_count": 1,
   "id": "155f853d-3ac4-46ef-83b0-8e69bbf821d5",
   "metadata": {},
   "outputs": [
    {
     "data": {
      "application/vnd.jupyter.widget-view+json": {
       "model_id": "7ff63f00a0c24a508f527eb13eeb9005",
       "version_major": 2,
       "version_minor": 0
      },
      "text/plain": [
       "HBox(children=(Accordion(children=(VBox(children=(Button(button_style='info', description='Refresh', style=But…"
      ]
     },
     "metadata": {},
     "output_type": "display_data"
    }
   ],
   "source": [
    "from pyironflow import PyironFlow, GUILayout\n",
    "from pyiron_nodes.workingnodes_printer import SamplePrinterMover\n",
    "from pyiron_workflow import Workflow\n",
    "\n",
    "# Step 1: Create workflow object\n",
    "wf = Workflow(\"PrinterControlWorkflow\")\n",
    "\n",
    "# Step 2: Add the printer mover node\n",
    "wf.printer_mover=SamplePrinterMover()\n",
    "pf=PyironFlow([wf],root_path=\"pyiron_nodes\",flow_widget_ratio=0.85)\n",
    "display(pf.gui)"
   ]
  },
  {
   "cell_type": "code",
   "execution_count": 2,
   "id": "c5603123-722c-45f4-9017-410dfe011220",
   "metadata": {},
   "outputs": [
    {
     "ename": "NameError",
     "evalue": "name 'send_gcode' is not defined",
     "output_type": "error",
     "traceback": [
      "\u001b[31m---------------------------------------------------------------------------\u001b[39m",
      "\u001b[31mNameError\u001b[39m                                 Traceback (most recent call last)",
      "\u001b[36mCell\u001b[39m\u001b[36m \u001b[39m\u001b[32mIn[2]\u001b[39m\u001b[32m, line 1\u001b[39m\n\u001b[32m----> \u001b[39m\u001b[32m1\u001b[39m \u001b[43msend_gcode\u001b[49m(\u001b[33m\"\u001b[39m\u001b[33mG92 X0 Y0 Z0\u001b[39m\u001b[33m\"\u001b[39m, port=\u001b[33m\"\u001b[39m\u001b[33mCOM4\u001b[39m\u001b[33m\"\u001b[39m, baudrate=\u001b[32m115200\u001b[39m, simulate=\u001b[38;5;28;01mFalse\u001b[39;00m)\n",
      "\u001b[31mNameError\u001b[39m: name 'send_gcode' is not defined"
     ]
    }
   ],
   "source": [
    "\n",
    "send_gcode(\"G92 X0 Y0 Z0\", port=\"COM4\", baudrate=115200, simulate=False)"
   ]
  },
  {
   "cell_type": "code",
   "execution_count": 1,
   "id": "283644d7-17cc-44a8-bb2c-cd65abe293ba",
   "metadata": {},
   "outputs": [
    {
     "name": "stdout",
     "output_type": "stream",
     "text": [
      "Current working directory: C:\\Users\\snandyal\\Downloads\\echem_printer_movements\n"
     ]
    }
   ],
   "source": [
    "import os\n",
    "\n",
    "print(\"Current working directory:\", os.getcwd())\n"
   ]
  },
  {
   "cell_type": "code",
   "execution_count": null,
   "id": "72ce0f5e-28ef-4022-b25c-f2d09be8d36c",
   "metadata": {},
   "outputs": [],
   "source": []
  }
 ],
 "metadata": {
  "kernelspec": {
   "display_name": "Python 3 (ipykernel)",
   "language": "python",
   "name": "python3"
  },
  "language_info": {
   "codemirror_mode": {
    "name": "ipython",
    "version": 3
   },
   "file_extension": ".py",
   "mimetype": "text/x-python",
   "name": "python",
   "nbconvert_exporter": "python",
   "pygments_lexer": "ipython3",
   "version": "3.12.9"
  }
 },
 "nbformat": 4,
 "nbformat_minor": 5
}
