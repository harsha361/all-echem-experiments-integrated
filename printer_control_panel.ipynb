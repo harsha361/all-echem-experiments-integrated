{
 "cells": [
  {
   "cell_type": "code",
   "execution_count": 1,
   "id": "155f853d-3ac4-46ef-83b0-8e69bbf821d5",
   "metadata": {},
   "outputs": [
    {
     "data": {
      "application/vnd.jupyter.widget-view+json": {
       "model_id": "9b53dc4c92ec447888f677cc8e642a6c",
       "version_major": 2,
       "version_minor": 0
      },
      "text/plain": [
       "HBox(children=(Accordion(children=(VBox(children=(Button(button_style='info', description='Refresh', style=But…"
      ]
     },
     "metadata": {},
     "output_type": "display_data"
    }
   ],
   "source": [
    "from pyironflow import PyironFlow, GUILayout\n",
    "from pyiron_nodes.workingnodes_printer import SamplePrinterMover\n",
    "from pyiron_workflow import Workflow\n",
    "\n",
    "# Step 1: Create workflow object\n",
    "wf = Workflow(\"PrinterControlWorkflow\")\n",
    "\n",
    "# Step 2: Add the printer mover node\n",
    "wf.printer_mover=SamplePrinterMover()\n",
    "pf=PyironFlow([wf],root_path=\"pyiron_nodes\",flow_widget_ratio=0.85)\n",
    "display(pf.gui)"
   ]
  },
  {
   "cell_type": "code",
   "execution_count": null,
   "id": "1f34cdf0-cf67-47d9-a8f0-a9c8ddab6fb6",
   "metadata": {},
   "outputs": [],
   "source": []
  }
 ],
 "metadata": {
  "kernelspec": {
   "display_name": "Python 3 (ipykernel)",
   "language": "python",
   "name": "python3"
  },
  "language_info": {
   "codemirror_mode": {
    "name": "ipython",
    "version": 3
   },
   "file_extension": ".py",
   "mimetype": "text/x-python",
   "name": "python",
   "nbconvert_exporter": "python",
   "pygments_lexer": "ipython3",
   "version": "3.12.9"
  }
 },
 "nbformat": 4,
 "nbformat_minor": 5
}
