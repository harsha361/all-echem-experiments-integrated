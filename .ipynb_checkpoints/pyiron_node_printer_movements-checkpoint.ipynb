{
 "cells": [
  {
   "cell_type": "code",
   "execution_count": null,
   "id": "8ff752cb-51b9-4378-ba56-9ef30a3cc1bf",
   "metadata": {},
   "outputs": [],
   "source": [
    "import os, sys\n",
    "from IPython.display import display\n",
    "import ipywidgets as widgets\n",
    "\n",
    "# Ensure local package path\n",
    "current_dir = os.getcwd()\n",
    "pyiron_nodes_path = os.path.join(current_dir, 'pyiron_nodes')\n",
    "if pyiron_nodes_path not in sys.path:\n",
    "    sys.path.append(pyiron_nodes_path)\n",
    "\n",
    "from pyiron_workflow import Workflow\n",
    "from pyironflow import PyironFlow\n",
    "from pyiron_nodes.workingnodes_printer import (\n",
    "    CellSelector,\n",
    "    ExperimentConfig,\n",
    "    MoveSanity,  # ✅ movement node\n",
    ")\n",
    "\n",
    "# 1. Create workflow\n",
    "wf = Workflow(\"cell_movement_test\")\n",
    "\n",
    "# 2. Add nodes\n",
    "wf.cell_selector = CellSelector()\n",
    "wf.config = ExperimentConfig()\n",
    "\n",
    "# 3. Connect selected_cells → config\n",
    "wf.config.selected_cells = wf.cell_selector.outputs.selected_cells\n",
    "\n",
    "# 4. Add movement node and connect config\n",
    "wf.mover = MoveSanity(config=wf.config.outputs.dataclass)\n",
    "\n",
    "# 5. GUI display\n",
    "pf = PyironFlow([wf], root_path=\"pyiron_nodes\", flow_widget_ratio=0.85)\n",
    "pf.gui.layout = widgets.Layout(\n",
    "    border='1px solid black',\n",
    "    flex='1 1 auto',\n",
    "    width='auto',\n",
    "    height='700px',\n",
    "    max_height='700px'\n",
    ")\n",
    "\n",
    "display(pf.gui)"
   ]
  },
  {
   "cell_type": "code",
   "execution_count": null,
   "id": "e2badb1a-2cb5-487b-a4d1-f89fad461d0b",
   "metadata": {},
   "outputs": [],
   "source": []
  }
 ],
 "metadata": {
  "kernelspec": {
   "display_name": "Python 3 (ipykernel)",
   "language": "python",
   "name": "python3"
  },
  "language_info": {
   "codemirror_mode": {
    "name": "ipython",
    "version": 3
   },
   "file_extension": ".py",
   "mimetype": "text/x-python",
   "name": "python",
   "nbconvert_exporter": "python",
   "pygments_lexer": "ipython3",
   "version": "3.12.9"
  }
 },
 "nbformat": 4,
 "nbformat_minor": 5
}
