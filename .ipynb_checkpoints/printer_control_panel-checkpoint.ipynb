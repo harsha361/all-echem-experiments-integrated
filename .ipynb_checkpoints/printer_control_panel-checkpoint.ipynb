{
 "cells": [
  {
   "cell_type": "code",
   "execution_count": null,
   "id": "155f853d-3ac4-46ef-83b0-8e69bbf821d5",
   "metadata": {},
   "outputs": [],
   "source": [
    "from pyironflow import PyironFlow, GUILayout\n",
    "from pyiron_nodes.workingnodes_printer import SamplePrinterMover\n",
    "from pyiron_workflow import Workflow\n",
    "\n",
    "# Step 1: Create workflow object\n",
    "wf = Workflow(\"PrinterControlWorkflow\")\n",
    "\n",
    "# Step 2: Add the printer mover node\n",
    "wf.printer_mover=SamplePrinterMover()\n",
    "pf=PyironFlow([wf],root_path=\"pyiron_nodes\",flow_widget_ratio=0.85)\n",
    "display(pf.gui)"
   ]
  }
 ],
 "metadata": {
  "kernelspec": {
   "display_name": "Python 3 (ipykernel)",
   "language": "python",
   "name": "python3"
  },
  "language_info": {
   "codemirror_mode": {
    "name": "ipython",
    "version": 3
   },
   "file_extension": ".py",
   "mimetype": "text/x-python",
   "name": "python",
   "nbconvert_exporter": "python",
   "pygments_lexer": "ipython3",
   "version": "3.12.9"
  }
 },
 "nbformat": 4,
 "nbformat_minor": 5
}
