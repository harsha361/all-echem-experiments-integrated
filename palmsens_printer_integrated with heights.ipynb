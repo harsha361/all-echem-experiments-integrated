{
 "cells": [
  {
   "cell_type": "code",
   "execution_count": 1,
   "id": "67ae2556-476a-401f-b05a-56ce9ae46a70",
   "metadata": {},
   "outputs": [
    {
     "data": {
      "application/vnd.jupyter.widget-view+json": {
       "model_id": "fdb42ac029fc4539ab588455016e5246",
       "version_major": 2,
       "version_minor": 0
      },
      "text/plain": [
       "HBox(children=(Accordion(children=(VBox(children=(Button(button_style='info', description='Refresh', style=But…"
      ]
     },
     "metadata": {},
     "output_type": "display_data"
    }
   ],
   "source": [
    "import os\n",
    "import ipywidgets as widgets\n",
    "from IPython.display import display\n",
    "\n",
    "# --- Imports ---\n",
    "from pyiron_workflow import Workflow\n",
    "from pyironflow import PyironFlow\n",
    "\n",
    "from pyiron_nodes.workingnodes_printer import (\n",
    "    CellSelector,\n",
    "    ExperimentConfig,\n",
    "    RunMeasurementLoop\n",
    ")\n",
    "\n",
    "# --- Build Workflow ---\n",
    "wf = Workflow(\"electrochem_measurement_workflow\")\n",
    "\n",
    "# 1. Cell selection (green node)\n",
    "wf.cell_selector = CellSelector()\n",
    "\n",
    "# 2. Experiment configuration (purple node)\n",
    "wf.config = ExperimentConfig()\n",
    "wf.config.selected_cells = wf.cell_selector.outputs.selected_cells\n",
    "\n",
    "# 3. Measurement run (green node)\n",
    "wf.runner = RunMeasurementLoop(config=wf.config.outputs.dataclass)\n",
    "\n",
    "# --- GUI display ---\n",
    "pf = PyironFlow([wf], root_path=\"pyiron_nodes\", flow_widget_ratio=0.85)\n",
    "pf.gui.layout = widgets.Layout(\n",
    "    border='1px solid black',\n",
    "    flex='1 1 auto',\n",
    "    width='auto',\n",
    "    height='700px',\n",
    "    max_height='700px'\n",
    ")\n",
    "\n",
    "display(pf.gui)"
   ]
  },
  {
   "cell_type": "code",
   "execution_count": null,
   "id": "d64fe2b8-be68-4ed5-be9f-04e9e5cc8687",
   "metadata": {},
   "outputs": [],
   "source": [
    "from printer.printer_setup import send_gcode\n",
    "send_gcode(\"G92 X0 Y0 Z0\", port=\"COM4\", baudrate=115200, simulate=False)"
   ]
  },
  {
   "cell_type": "code",
   "execution_count": null,
   "id": "5aab5a9a-2a12-4e79-8093-4d5131b3dd20",
   "metadata": {},
   "outputs": [],
   "source": []
  }
 ],
 "metadata": {
  "kernelspec": {
   "display_name": "Python 3 (ipykernel)",
   "language": "python",
   "name": "python3"
  },
  "language_info": {
   "codemirror_mode": {
    "name": "ipython",
    "version": 3
   },
   "file_extension": ".py",
   "mimetype": "text/x-python",
   "name": "python",
   "nbconvert_exporter": "python",
   "pygments_lexer": "ipython3",
   "version": "3.12.9"
  }
 },
 "nbformat": 4,
 "nbformat_minor": 5
}
